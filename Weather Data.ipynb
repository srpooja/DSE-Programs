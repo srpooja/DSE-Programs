{
 "cells": [
  {
   "cell_type": "code",
   "execution_count": 2,
   "metadata": {},
   "outputs": [],
   "source": [
    "from sklearn.preprocessing import StandardScaler\n",
    "from sklearn.cluster import KMeans\n",
    "import pandas as pd\n",
    "import numpy as np\n",
    "from itertools import cycle, islice\n",
    "import matplotlib.pyplot as mtp\n",
    "from pandas.plotting import parallel_coordinates\n",
    "\n",
    "%matplotlib inline\n"
   ]
  },
  {
   "cell_type": "code",
   "execution_count": 3,
   "metadata": {},
   "outputs": [
    {
     "data": {
      "text/plain": [
       "(117, 14)"
      ]
     },
     "execution_count": 3,
     "metadata": {},
     "output_type": "execute_result"
    }
   ],
   "source": [
    "ds = pd.read_csv('./Weather Data in India from 1901 to 2017.csv')\n",
    "ds.shape"
   ]
  },
  {
   "cell_type": "code",
   "execution_count": 3,
   "metadata": {},
   "outputs": [
    {
     "data": {
      "text/html": [
       "<div>\n",
       "<style scoped>\n",
       "    .dataframe tbody tr th:only-of-type {\n",
       "        vertical-align: middle;\n",
       "    }\n",
       "\n",
       "    .dataframe tbody tr th {\n",
       "        vertical-align: top;\n",
       "    }\n",
       "\n",
       "    .dataframe thead th {\n",
       "        text-align: right;\n",
       "    }\n",
       "</style>\n",
       "<table border=\"1\" class=\"dataframe\">\n",
       "  <thead>\n",
       "    <tr style=\"text-align: right;\">\n",
       "      <th></th>\n",
       "      <th>Unnamed: 0</th>\n",
       "      <th>YEAR</th>\n",
       "      <th>JAN</th>\n",
       "      <th>FEB</th>\n",
       "      <th>MAR</th>\n",
       "      <th>APR</th>\n",
       "      <th>MAY</th>\n",
       "      <th>JUN</th>\n",
       "      <th>JUL</th>\n",
       "      <th>AUG</th>\n",
       "      <th>SEP</th>\n",
       "      <th>OCT</th>\n",
       "      <th>NOV</th>\n",
       "      <th>DEC</th>\n",
       "    </tr>\n",
       "  </thead>\n",
       "  <tbody>\n",
       "    <tr>\n",
       "      <td>0</td>\n",
       "      <td>0</td>\n",
       "      <td>1901</td>\n",
       "      <td>17.99</td>\n",
       "      <td>19.43</td>\n",
       "      <td>23.49</td>\n",
       "      <td>26.41</td>\n",
       "      <td>28.28</td>\n",
       "      <td>28.60</td>\n",
       "      <td>27.49</td>\n",
       "      <td>26.98</td>\n",
       "      <td>26.26</td>\n",
       "      <td>25.08</td>\n",
       "      <td>21.73</td>\n",
       "      <td>18.95</td>\n",
       "    </tr>\n",
       "    <tr>\n",
       "      <td>1</td>\n",
       "      <td>1</td>\n",
       "      <td>1902</td>\n",
       "      <td>19.00</td>\n",
       "      <td>20.39</td>\n",
       "      <td>24.10</td>\n",
       "      <td>26.54</td>\n",
       "      <td>28.68</td>\n",
       "      <td>28.44</td>\n",
       "      <td>27.29</td>\n",
       "      <td>27.05</td>\n",
       "      <td>25.95</td>\n",
       "      <td>24.37</td>\n",
       "      <td>21.33</td>\n",
       "      <td>18.78</td>\n",
       "    </tr>\n",
       "    <tr>\n",
       "      <td>2</td>\n",
       "      <td>2</td>\n",
       "      <td>1903</td>\n",
       "      <td>18.32</td>\n",
       "      <td>19.79</td>\n",
       "      <td>22.46</td>\n",
       "      <td>26.03</td>\n",
       "      <td>27.93</td>\n",
       "      <td>28.41</td>\n",
       "      <td>28.04</td>\n",
       "      <td>26.63</td>\n",
       "      <td>26.34</td>\n",
       "      <td>24.57</td>\n",
       "      <td>20.96</td>\n",
       "      <td>18.29</td>\n",
       "    </tr>\n",
       "    <tr>\n",
       "      <td>3</td>\n",
       "      <td>3</td>\n",
       "      <td>1904</td>\n",
       "      <td>17.77</td>\n",
       "      <td>19.39</td>\n",
       "      <td>22.95</td>\n",
       "      <td>26.73</td>\n",
       "      <td>27.83</td>\n",
       "      <td>27.85</td>\n",
       "      <td>26.84</td>\n",
       "      <td>26.73</td>\n",
       "      <td>25.84</td>\n",
       "      <td>24.36</td>\n",
       "      <td>21.07</td>\n",
       "      <td>18.84</td>\n",
       "    </tr>\n",
       "    <tr>\n",
       "      <td>4</td>\n",
       "      <td>4</td>\n",
       "      <td>1905</td>\n",
       "      <td>17.40</td>\n",
       "      <td>17.79</td>\n",
       "      <td>21.78</td>\n",
       "      <td>24.84</td>\n",
       "      <td>28.32</td>\n",
       "      <td>28.69</td>\n",
       "      <td>27.67</td>\n",
       "      <td>27.47</td>\n",
       "      <td>26.29</td>\n",
       "      <td>26.16</td>\n",
       "      <td>22.07</td>\n",
       "      <td>18.71</td>\n",
       "    </tr>\n",
       "  </tbody>\n",
       "</table>\n",
       "</div>"
      ],
      "text/plain": [
       "   Unnamed: 0  YEAR    JAN    FEB    MAR    APR    MAY    JUN    JUL    AUG  \\\n",
       "0           0  1901  17.99  19.43  23.49  26.41  28.28  28.60  27.49  26.98   \n",
       "1           1  1902  19.00  20.39  24.10  26.54  28.68  28.44  27.29  27.05   \n",
       "2           2  1903  18.32  19.79  22.46  26.03  27.93  28.41  28.04  26.63   \n",
       "3           3  1904  17.77  19.39  22.95  26.73  27.83  27.85  26.84  26.73   \n",
       "4           4  1905  17.40  17.79  21.78  24.84  28.32  28.69  27.67  27.47   \n",
       "\n",
       "     SEP    OCT    NOV    DEC  \n",
       "0  26.26  25.08  21.73  18.95  \n",
       "1  25.95  24.37  21.33  18.78  \n",
       "2  26.34  24.57  20.96  18.29  \n",
       "3  25.84  24.36  21.07  18.84  \n",
       "4  26.29  26.16  22.07  18.71  "
      ]
     },
     "execution_count": 3,
     "metadata": {},
     "output_type": "execute_result"
    }
   ],
   "source": [
    "ds.head()"
   ]
  },
  {
   "cell_type": "code",
   "execution_count": 4,
   "metadata": {},
   "outputs": [
    {
     "data": {
      "text/plain": [
       "Unnamed: 0    0\n",
       "YEAR          0\n",
       "JAN           0\n",
       "FEB           0\n",
       "MAR           0\n",
       "APR           0\n",
       "MAY           0\n",
       "JUN           0\n",
       "JUL           0\n",
       "AUG           0\n",
       "SEP           0\n",
       "OCT           0\n",
       "NOV           0\n",
       "DEC           0\n",
       "dtype: int64"
      ]
     },
     "execution_count": 4,
     "metadata": {},
     "output_type": "execute_result"
    }
   ],
   "source": [
    "ds.isnull().sum()\n"
   ]
  },
  {
   "cell_type": "code",
   "execution_count": 5,
   "metadata": {},
   "outputs": [
    {
     "name": "stdout",
     "output_type": "stream",
     "text": [
      "<class 'pandas.core.frame.DataFrame'>\n",
      "RangeIndex: 117 entries, 0 to 116\n",
      "Data columns (total 14 columns):\n",
      "Unnamed: 0    117 non-null int64\n",
      "YEAR          117 non-null int64\n",
      "JAN           117 non-null float64\n",
      "FEB           117 non-null float64\n",
      "MAR           117 non-null float64\n",
      "APR           117 non-null float64\n",
      "MAY           117 non-null float64\n",
      "JUN           117 non-null float64\n",
      "JUL           117 non-null float64\n",
      "AUG           117 non-null float64\n",
      "SEP           117 non-null float64\n",
      "OCT           117 non-null float64\n",
      "NOV           117 non-null float64\n",
      "DEC           117 non-null float64\n",
      "dtypes: float64(12), int64(2)\n",
      "memory usage: 12.9 KB\n"
     ]
    }
   ],
   "source": [
    "ds.info()"
   ]
  },
  {
   "cell_type": "code",
   "execution_count": 12,
   "metadata": {},
   "outputs": [],
   "source": [
    "feature_cols = ['YEAR', 'JAN', 'FEB', 'MAR', 'APR', 'MAY', 'JUN', 'JUL', 'AUG', 'SEP', 'OCT', 'NOV', 'DEC']\n",
    "slct_df = ds[feature_cols]\n",
    "X = StandardScaler().fit_transform(slct_df)"
   ]
  },
  {
   "cell_type": "code",
   "execution_count": 14,
   "metadata": {},
   "outputs": [],
   "source": [
    "kmeans = KMeans(n_clusters=4)  \n",
    "model = kmeans.fit(X)\n",
    "y_kmeans = kmeans.predict(X)\n"
   ]
  },
  {
   "cell_type": "code",
   "execution_count": 15,
   "metadata": {},
   "outputs": [
    {
     "data": {
      "text/plain": [
       "array([[-0.81770652, -0.4156277 , -0.42130711, -0.32880454, -0.32512462,\n",
       "        -0.24896452, -0.54947076, -0.51850324, -0.61579233, -0.64990771,\n",
       "        -0.66539704, -0.78908231, -0.73880228],\n",
       "       [ 0.14804394, -0.12583751, -0.13940673, -0.21206103, -0.22725711,\n",
       "        -0.13738234,  0.15445467, -0.08099396, -0.03798866,  0.00579942,\n",
       "         0.0470684 ,  0.11163797,  0.12915226],\n",
       "       [ 1.70250529,  3.82042732,  3.5582444 ,  3.09709983,  3.81378275,\n",
       "         3.19915243,  2.7670643 ,  2.54259982,  3.46855635,  4.07209833,\n",
       "         4.07131009,  3.39569992,  3.95879744],\n",
       "       [ 1.23327037,  0.76331891,  0.82427167,  0.81749392,  0.77738528,\n",
       "         0.49935795,  0.58002336,  0.99692091,  1.03107028,  0.96263009,\n",
       "         0.91360707,  1.09877219,  0.91279395]])"
      ]
     },
     "execution_count": 15,
     "metadata": {},
     "output_type": "execute_result"
    }
   ],
   "source": [
    "centers = model.cluster_centers_\n",
    "centers"
   ]
  },
  {
   "cell_type": "code",
   "execution_count": 11,
   "metadata": {},
   "outputs": [
    {
     "data": {
      "image/png": "[encoded data removed]",
      "text/plain": [
       "<Figure size 432x288 with 1 Axes>"
      ]
     },
     "metadata": {
      "needs_background": "light"
     },
     "output_type": "display_data"
    }
   ],
   "source": [
    "mtp.scatter(X[y_kmeans == 0, 0], X[y_kmeans == 0, 1], s = 100, c = 'blue', label = 'Cluster 1') #for first cluster  \n",
    "mtp.scatter(X[y_kmeans == 1, 0], X[y_kmeans == 1, 1], s = 100, c = 'green', label = 'Cluster 2') #for second cluster  \n",
    "mtp.scatter(X[y_kmeans== 2, 0], X[y_kmeans == 2, 1], s = 100, c = 'red', label = 'Cluster 3') #for third cluster  \n",
    "mtp.scatter(X[y_kmeans == 3, 0], X[y_kmeans == 3, 1], s = 100, c = 'cyan', label = 'Cluster 4') #for fourth cluster  \n",
    "mtp.scatter(kmeans.cluster_centers_[:, 0], kmeans.cluster_centers_[:, 1], s = 300, c = 'yellow', label = 'Centroid')   \n",
    "mtp.title('Clusters of seasons')  \n",
    "mtp.legend()  \n",
    "mtp.show()  "
   ]
  },
  {
   "cell_type": "code",
   "execution_count": null,
   "metadata": {},
   "outputs": [],
   "source": []
  }
 ],
 "metadata": {
  "kernelspec": {
   "display_name": "Python 3",
   "language": "python",
   "name": "python3"
  },
  "language_info": {
   "codemirror_mode": {
    "name": "ipython",
    "version": 3
   },
   "file_extension": ".py",
   "mimetype": "text/x-python",
   "name": "python",
   "nbconvert_exporter": "python",
   "pygments_lexer": "ipython3",
   "version": "3.7.4"
  }
 },
 "nbformat": 4,
 "nbformat_minor": 2
}
